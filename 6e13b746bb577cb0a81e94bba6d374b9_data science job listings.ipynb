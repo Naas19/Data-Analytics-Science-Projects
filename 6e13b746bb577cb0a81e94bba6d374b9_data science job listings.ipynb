
zc:\Users\anasw\AppData\Local\Temp\df5d30ea-65cf-41e0-8734-200d49b27ac4_archive (4).zip.ac4\data science job listings.ipynb�<import pandas as pd
import numpy as np 
import matplotlib.pyplot as plt
import seaborn as sns
import plotly.express as px
CELL:
data = pd.read_csv(r"C:\Users\anasw\AppData\Local\Temp\df5d30ea-65cf-41e0-8734-200d49b27ac4_archive (4).zip.ac4\Data-Science-Job_Listing.csv")
df = pd.DataFrame(data)

df.head()
OUTPUT:
   Position                                          Job Title  \
0         1                    Associate Stop Loss Underwriter   
1         2                            Manager of Data Science   
2         3                        Senior Data Product Manager   
3         4                           Oncology Nurse Navigator   
4         5  Head of Artificial Intelligence – Americas Region   

                Company Name        Location                          Salary  \
0  The Insurance Center
CELL:
df.columns
OUTPUT:
Index(['Position', 'Job Title', 'Company Name', 'Location', 'Salary', 'Date',
       'Logo', 'Job Link', 'Company Rating'],
      dtype='object')
CELL:
df.isnull().sum()
OUTPUT:
Position           0
Job Title          0
Company Name       0
Location           0
Salary            62
Date               0
Logo              64
Job Link           0
Company Rating    61
dtype: int64
CELL:
df.shape
OUTPUT:
(500, 9)
CELL:

df["Company Rating"].fillna(df["Company Rating"].mode()[0], inplace = True)
CELL:
df.info()
CELL:
df["Job Title"].value_counts().head(20)
OUTPUT:
Job Title
Data Scientist                                                                             24
Senior Data Scientist                                                                      17
Senior Manager Data Science                                                                 8
Principal Data Science                                                                      8
Field Data Collector (PPC)                                                                  7
Data Analyst        
CELL:
df[(df["Job Title"] == "Junior Data Scientist") | (df["Job Title"] == "Associate Data Scientist")]

OUTPUT:
Empty DataFrame
Columns: [Position, Job Title, Company Name, Location, Salary, Date, Logo, Job Link, Company Rating]
Index: []
CELL:
df["Company Name"].value_counts()
OUTPUT:
Company Name
Discover Financial Services\n3.9    31
Inizio Engage\n3.6                  18
Freddie Mac\n3.6                    12
NVIDIA\n4.6                          9
Kforce\n3.8                          7
                                    ..
Tosca Services, LLC\n3.2             1
Gohagan & Company                    1
YouTube\n4.4                         1
CELL:
df["Company Name"].value_counts()
OUTPUT:
Company Name
Discover Financial Services\n3.9    31
Inizio Engage\n3.6                  18
Freddie Mac\n3.6                    12
NVIDIA\n4.6                          9
Kforce\n3.8                          7
                                    ..
Tosca Services, LLC\n3.2             1
Gohagan & Company                    1
YouTube\n4.4                         1
CELL:
top10_location = df["Location"].value_counts().head(10)
top10_L = pd.DataFrame(top10_location)

top10_L = top10_L.reset_index()

top10_L
OUTPUT:
          Location  count
0           Remote     41
1   Riverwoods, IL     31
2     New York, NY     22
3    United States     20
4       McLean, VA     16
5   Washington, DC     12
6      Atlanta, GA     12
7      Seattle, WA     11
8       Irving, TX     10
CELL:
import matplotlib.pyplot as plt
import seaborn as sns

fig = px.bar(top10_L, x='Location', y='count', color='Location',
             labels={'Number of Jobs': 'Number of Jobs', 'Location': 'Location'},
             title='Number of Jobs by Location')

# Update the layout for better visualization
fig.update_layout(width=800, height=800)

# Show the figure
fig.show()

CELL:
top10_salary = df["Salary"].value_counts().head(10)
top10_S = pd.DataFrame(top10_salary)

top10_S = top10_S.reset_index()

top10_S
OUTPUT:
                                     Salary  count
0             $127K - $177K (Employer est.)     12
1             $150K - $210K (Employer est.)      8
2           $20.00 Per Hour (Employer est.)      7
3              $62K - $107K (Employer est.)      6
4              $86K - $120K (Employer est.)      5
5           $45.00 Per Hour (Employer est.)      5
6             $150K - $190K (Employer est.)      5
7             $180K - $339K (Employer est.)      5
8             $160K - $190K (Employer est
CELL:
fig = px.bar(top10_S,y = 'Salary' , x = 'count',color='Salary' ,orientation='h',
             labels={'x': 'Salary', 'y': 'Job Title'},
             title='Top 10 Salaries offered')

fig.update_layout(width=800, height=800)

fig.show()

CELL:
top_10_companies = df["Company Name"].value_counts().head(15)

top_10C = pd.DataFrame(top_10_companies)
top_10C = top_10C.reset_index()

top_10C
OUTPUT:
                        Company Name  count
0   Discover Financial Services\n3.9     31
1                 Inizio Engage\n3.6     18
2                   Freddie Mac\n3.6     12
3                        NVIDIA\n4.6      9
4                        Kforce\n3.8      7
5                        Aquent\n4.0      7
6   Mathematica Policy Research\n3.9      7
7     Newark Board of Education\n3.3      7
8                       Dropbox\n4.4      6
CELL:
fig = px.bar(top_10C, x='Company Name', y='count', color='Company Name',
             labels={'x': 'Company Name', 'y': 'Number of listings'},
             title='Top 10 Companies with highest number of listings')

fig.update_layout(width=800, height=800)

fig.show()
OUTPUT:
<Figure size 1200x1200 with 1 Axes>
CELL:
less_than_avg = df[df["Company Rating"] <= 3.8]

greater_than_avg = df[df["Company Rating"] > 3.8]
CELL:
less_than_avg.count()
OUTPUT:
Position          220
Job Title         220
Company Name      220
Location          220
Salary            196
Date              220
Logo              217
Job Link          220
Company Rating    220
dtype: int64
CELL:

greater_than_avg.count()
OUTPUT:
Position          280
Job Title         280
Company Name      280
Location          280
Salary            242
Date              280
Logo              219
Job Link          280
Company Rating    280
dtype: int64
CELL:
mean_rating = df["Company Rating"].max() - df["Company Rating"].min()
CELL:
greater_than_mean = df[df["Company Rating"] > mean_rating]
CELL:
less_than_mean = df[df["Company Rating"] < mean_rating]
CELL:
greater_than_mean["Company Name"].value_counts()
OUTPUT:
Company Name
NVIDIA\n4.6                                                    9
Dropbox\n4.4                                                   6
Boston Consulting Group\n4.2                                   5
Booz Allen\n4.2                                                5
Optimizely\n4.1                                                4
CarShield\n4.5                                                 4
Genmab\n4.3                                                    3
Procter & Gamble\n4.1           
CELL:
plt.figure(figsize=(12,12))
sns.barplot(y = greater_than_mean["Company Name"].value_counts().head(10).index , x = greater_than_mean["Company Name"].value_counts().head(10) , hue = greater_than_mean["Company Name"].value_counts().head(10).index)
plt.xlabel("Ratings of comapanies greater than mean")
plt.ylabel("Companies")
plt.show()
OUTPUT:
<Figure size 1200x1200 with 1 Axes>
CELL:
plt.figure(figsize=(12,12))
sns.barplot(y = less_than_mean["Company Name"].value_counts().head(10).index , x = less_than_mean["Company Name"].value_counts().head(10) , hue = less_than_mean["Company Name"].value_counts().head(10).index)
plt.xlabel("Ratings of comapanies less than mean")
plt.ylabel("Companies")
plt.show()
OUTPUT:
<Figure size 1200x1200 with 1 Axes>
CELL:
F.FI*$418967d5-e83c-4968-bdd2-11d47b52d9e00I].]`*$f6482b97-7b03-4be5-9fb0-1fb96e5371a00`o op	p� ��
�� ��
�� ��������
��	 �	�	
�	�	 
�	�	 �	�

�
�
 
�
�
 
�
�
 
�
�
 
�
�
 
�
� 
�� 0��*$dde8ac0a-9df3-4508-92c4-a8636af61bad0
�� ��
�� 0��*$97c5b5a8-d2b8-4973-a80e-e6ec3d370dac0
�� ��
�� ��
�� ��
�� 
�� ��
�� 
�� 
�� ��
�� 
�� 
�� 
�� 
�� 
�� ����
�� 
�� 
�� 
�� ��
�� 
�� 
�� 
�� 
�� 
�� 
�� 
�� 
�� 
�� ��
�� 
�� ��
�� ��
�� 
�� 
�� 
�� 
�� 
�� 
�� ��2�� *$8107dd4c-3cd2-43ef-a3c7-d2ee62dc424d0
�� 
�� ��
�� 
�� ����
�� 
�� 
�� 0��*$a242f866-f956-4b26-b582-32a11a2294d80��0��*$87080f57-8b85-4853-8067-ba145df1ceb80��
��" 
�"�" 
�"�" 
�"�" 
�"�" 
�"�# 
�#�# �#�#
�#�# 
�#�# 
�#�# 
�#�# 
�#�# �#�#
�#�# �#�#
�#�# 
�#�# 
�#�# �#�#
�#�$ �$�$
�$�$ 
�$�$ �$�%
�%�% 
�%�% �%�%
�%�% 
�%�% 
�%�% 0�%�%*$ed9b0141-e900-46ed-b3b9-2ec53cf61fa70�%�%
�%�% 0�%�%*$5035478a-d12e-45f8-86eb-aefb4a7c59170�%�%0�%�%*$8750d21d-1e4e-4208-9e20-6cc5d169700b0
�%�& 
�&�& �&�&
�&�& �&�&
�&�& �&�'
�'�' 
�'�' 
�'�' �'�'
�'�' 
�'�( 
�(�( �(�(
�(�( �(�(
�(�( �(�(
�(�( 
�(�( 
�(�( �(�(
�(�( 
�(�) 
�)�) �)�)
�)�) 
�)�) 
�)�* 0�*�**$ff170c02-bcd0-4daf-81c1-ba69560bbb830�*�*
�*�* 0�*�**$ba06f57b-69ab-406f-adb9-ba460398950c0�*�*
�*�+ 0�+�+*$41cccf7d-dcad-4fe5-b954-78ac2f7133db00�+�+*$90ba91e6-a8f3-4365-814e-1f3c288cdd210
�+�+ 
�+�+ 
�+�+ 0�+�+*$085fe960-6592-4d54-810b-02d86a1b53fe0
�+�+ 
�+�, 
�,�, �,�,
�,�, 
�,�, �,�,0�,�,*$244e2344-3a94-4633-a1f3-e49233d16d4c0�,�,
�,�, �,�,�,�,
�,�, �,�.
�.�. �.�.�.�.0�.�.*$93cbf434-7a1d-42e3-a2ac-ccac4abfea550�.�.
�.�0 
�0�0 �0�0
�0�1 0�1�1*$41ea65ed-0026-421b-b1d6-9a08658d2a4e0
�1�1 
�1�1 �1�1
�1�1 
�1�1 
�1�1 
�1�1 
�1�2 �2�2
�2�2 �2�2
�2�2 
�2�2 
�2�2 �2�2
�2�2 
�2�2 
�2�2 �2�2
�2�2 
�2�7 
�7�7 
�7�7 
�7�8 
�8�8 �8�8
�8�8 �8�8
�8�8 �8�80�8�8*$ab03a9cc-0f62-4c70-9b8d-e543108ac2780
�8�8 
�8�8 0�8�8*$83922643-054a-4da0-ba8b-c62f6922157a0�8�9
�9�9 
�9�9 �9�9
�9�9 �9�9
�9�9 
�9�9 �9�9
�9�: �:�:
�:�: �:�:
�:�; �;�;
�;�; �;�;
�;�< 